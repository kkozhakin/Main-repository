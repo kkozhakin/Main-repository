{
 "cells": [
  {
   "cell_type": "code",
   "execution_count": 14,
   "metadata": {},
   "outputs": [
    {
     "name": "stdout",
     "output_type": "stream",
     "text": [
      "213 212\n",
      "213\n"
     ]
    }
   ],
   "source": [
    "from math import factorial\n",
    "def C(n, k):\n",
    "    s = 1\n",
    "    for i in range(n-k+1, n+1):\n",
    "        s*=i    \n",
    "    return s/factorial(k)\n",
    "a,b = map(int, input().split())\n",
    "\n",
    "if (a >= 0 and b >= 0 and a >= b):\n",
    "    print(int(C(a,b)))\n",
    "else:\n",
    "    print('ERROR')"
   ]
  },
  {
   "cell_type": "code",
   "execution_count": 20,
   "metadata": {},
   "outputs": [
    {
     "name": "stdout",
     "output_type": "stream",
     "text": [
      "1 4\n",
      "2.500 2.000\n"
     ]
    }
   ],
   "source": [
    "l = list(map(int, input().split()))\n",
    "s = sum(l)/len(l)\n",
    "g = 1\n",
    "for i in l:\n",
    "\tg *= i\n",
    "print('%.3f' % s, '%.3f' % g**(1/len(l)))"
   ]
  },
  {
   "cell_type": "code",
   "execution_count": 28,
   "metadata": {},
   "outputs": [
    {
     "name": "stdout",
     "output_type": "stream",
     "text": [
      "4\n",
      "('Ivan', 2000, 3.9)\n",
      "('Sergey', 2003, 3.9)\n",
      "('Kolia', 2000, 3.9)\n",
      "('Anja', 2008, 3.5)\n",
      "('Anja', 2008, 3.5)\n",
      "('Ivan', 2000, 3.9)\n",
      "('Sergey', 2003, 3.9)\n",
      "('Kolia', 2000, 3.9)\n"
     ]
    }
   ],
   "source": [
    "n = int(input())\n",
    "l = []\n",
    "for i in range(n):\n",
    "    l.append(tuple(input().split(', ')))\n",
    "for j in range(0, n):\n",
    "    for i in range(1,n):\n",
    "        if l[i][1] > l[i-1][1]:\n",
    "            l[i], l[i-1] = l[i-1], l[i]\n",
    "        elif l[i][1] == l[i-1][1]:\n",
    "            if l[i][2] < l[i-1][2]:\n",
    "                l[i], l[i-1] = l[i-1], l[i]\n",
    "        elif l[i][2] == l[i-1][2]:\n",
    "            if l[i][0] < l[i-1][0]:\n",
    "                l[i], l[i-1] = l[i-1], l[i]\n",
    "for i in l:\n",
    "    print(', '.join(i))"
   ]
  },
  {
   "cell_type": "code",
   "execution_count": 27,
   "metadata": {},
   "outputs": [
    {
     "name": "stdout",
     "output_type": "stream",
     "text": [
      "11\n",
      "0.99999998392 3219\n",
      "2.71827117300 127553\n"
     ]
    }
   ],
   "source": [
    "from math import sin\n",
    "\n",
    "def a(n):\n",
    "    return sin(1/n)/n**-1\n",
    "\n",
    "def b(n):\n",
    "    return (1 + 1/n)**n\n",
    "\n",
    "e = int(input())\n",
    "nextt = a(1)\n",
    "d = 1\n",
    "i = 2\n",
    "while d > 10**(-e):\n",
    "    prev = nextt\n",
    "    nextt = a(i)\n",
    "    i += 1\n",
    "    d = nextt - prev\n",
    "print(format(a(i-1), '.'+str(e)+'f'), i-1)\n",
    "nextt = b(1)\n",
    "d = 1\n",
    "i = 2\n",
    "while d > 10**(-e):\n",
    "    prev = nextt\n",
    "    nextt = b(i)\n",
    "    i += 1\n",
    "    d = nextt - prev\n",
    "print(format(b(i - 1), '.'+str(e)+'f'), i-1)"
   ]
  },
  {
   "cell_type": "code",
   "execution_count": 7,
   "metadata": {},
   "outputs": [],
   "source": [
    "with open('input.txt', 'r') as f:\n",
    "    m, n = map(int, f.read().split())\n",
    "if m > 2:\n",
    "    matrix = [[str((i+j+1) % 2) for j in range(n)] for i in range(2)]\n",
    "    with open('output.txt', 'w') as f:\n",
    "        while m >= 2:\n",
    "            f.write('\\n'.join(' '.join(ln) for ln in matrix) + '\\n')\n",
    "            m -= 2\n",
    "        if m == 1:\n",
    "            f.write(' '.join(matrix[0]))\n",
    "else:\n",
    "    matrix = [[str((i+j+1) % 2) for j in range(n)] for i in range(m)]\n",
    "    with open('output.txt', 'w') as f:\n",
    "        f.write('\\n'.join(' '.join(ln) for ln in matrix))"
   ]
  },
  {
   "cell_type": "code",
   "execution_count": 82,
   "metadata": {},
   "outputs": [
    {
     "name": "stdout",
     "output_type": "stream",
     "text": [
      "6\n",
      "1 \n",
      "1 1 \n",
      "1 2 1 \n",
      "1 3 3 1 \n",
      "1 4 6 4 1 \n",
      "1 5 10 10 5 1 \n",
      "1 6 15 20 15 6 1 \n"
     ]
    }
   ],
   "source": [
    "from math import factorial\n",
    "def C(n, k):\n",
    "    s = 1\n",
    "    for i in range(n-k+1, n+1):\n",
    "        s*=i    \n",
    "    return s/factorial(k)\n",
    "a = int(input())\n",
    "for i in range(a+1):\n",
    "    s = ''\n",
    "    for j in range(i+1):\n",
    "        s += str(int(C(i,j))) + ' '\n",
    "    print(s)"
   ]
  },
  {
   "cell_type": "code",
   "execution_count": 95,
   "metadata": {},
   "outputs": [],
   "source": [
    "def fib(n):\n",
    "    a = 0\n",
    "    b = 1\n",
    "    with open('output.txt','w') as f:\n",
    "        for i in range(n):\n",
    "            a, b = b, a + b\n",
    "            if i == n - 1:\n",
    "                f.write(str(a))\n",
    "            else:\n",
    "                f.write(str(a) + ' ')\n",
    "\n",
    "with open('input.txt','r') as f:\n",
    "    fib(int(f.read()))"
   ]
  },
  {
   "cell_type": "code",
   "execution_count": 59,
   "metadata": {},
   "outputs": [],
   "source": [
    "with open('input.txt', 'r') as f:\n",
    "    n, m = map(int, f.read().split())\n",
    "q = 2\n",
    "\n",
    "with open('output.txt', 'w') as f:\n",
    "    for i in range(n):\n",
    "        l = ['1']*m\n",
    "        for j in range(m - 1, -1, -1):\n",
    "            if (i + j) % 2 != 0:\n",
    "                l[j] = str(q)\n",
    "                q += 1\n",
    "        if i != n - 1:\n",
    "            f.write('\\t'.join(l) + '\\n')\n",
    "        else:\n",
    "            f.write('\\t'.join(l))"
   ]
  },
  {
   "cell_type": "code",
   "execution_count": 42,
   "metadata": {},
   "outputs": [],
   "source": [
    "l = [[]]\n",
    "with open('input.txt', 'r') as f:\n",
    "    l = [list(map(int, line.split())) for line in f]\n",
    "q = []\n",
    "for i in range(len(l)):    \n",
    "    for j in range(len(l[0])):\n",
    "        n = 0\n",
    "        s = 0\n",
    "        if (l[i][j] == 0):\n",
    "            q.append((i, j))\n",
    "            if i != 0:\n",
    "                n += 1\n",
    "                if (i - 1, j) not in q:\n",
    "                    s += l[i-1][j]\n",
    "            if i != len(l) - 1:\n",
    "                n += 1\n",
    "                if (i + 1, j) not in q:\n",
    "                    s += l[i + 1][j]\n",
    "            if j != 0:\n",
    "                n += 1\n",
    "                if (i, j - 1) not in q:\n",
    "                    s += l[i][j - 1]\n",
    "            if j != len(l[0]) - 1:\n",
    "                n += 1\n",
    "                if (i, j + 1) not in q:\n",
    "                    s += l[i][j + 1]\n",
    "            if n != 0:\n",
    "                l[i][j] = s/n\n",
    "l = [[('%.3f' % l[j][i]) for i in range(len(l[0]))] for j in range(len(l))]\n",
    "with open('output.txt', 'w') as f:\n",
    "\tf.write('\\n'.join(' '.join(ln) for ln in l))"
   ]
  }
 ],
 "metadata": {
  "kernelspec": {
   "display_name": "Python 3",
   "language": "python",
   "name": "python3"
  },
  "language_info": {
   "codemirror_mode": {
    "name": "ipython",
    "version": 3
   },
   "file_extension": ".py",
   "mimetype": "text/x-python",
   "name": "python",
   "nbconvert_exporter": "python",
   "pygments_lexer": "ipython3",
   "version": "3.5.2"
  }
 },
 "nbformat": 4,
 "nbformat_minor": 2
}
