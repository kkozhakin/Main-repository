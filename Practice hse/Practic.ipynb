{
 "cells": [
  {
   "cell_type": "code",
   "execution_count": 240,
   "metadata": {},
   "outputs": [],
   "source": [
    "import numpy as np"
   ]
  },
  {
   "cell_type": "code",
   "execution_count": 319,
   "metadata": {},
   "outputs": [],
   "source": [
    "class Literature():\n",
    "    count = 1\n",
    "    \n",
    "    def __init__(self, name, year=0):\n",
    "        self.name = name\n",
    "        self._year = year\n",
    "    \n",
    "    def __str__(self):\n",
    "        return self.name +' '+ str(self._year)+' '+ str(self.count)+' '"
   ]
  },
  {
   "cell_type": "code",
   "execution_count": 320,
   "metadata": {},
   "outputs": [],
   "source": [
    "class Book(Literature):\n",
    "    _authors = ''\n",
    "    _publish = ''\n",
    "    \n",
    "    def __init__(self, name, authors, year, publish):\n",
    "            super().__init__(name, year)\n",
    "            self._publish = publish\n",
    "            self._authors = authors\n",
    "\n",
    "    def __str__(self):\n",
    "        return super().__str__() + self._publish + ' ' + self._authors"
   ]
  },
  {
   "cell_type": "code",
   "execution_count": 321,
   "metadata": {},
   "outputs": [],
   "source": [
    "class Library():\n",
    "    items = []\n",
    "    users = []\n",
    "    \n",
    "    def _check(self, name, itype):\n",
    "        for i in range(len(self.items)):\n",
    "            if name == self.items[i].name and itype == type(self.items[i]):\n",
    "                return (True, i)\n",
    "        return (False, -1)\n",
    "    \n",
    "    def Add(self, x):\n",
    "        t = self._check(x.name, type(x))\n",
    "        if t[0]:\n",
    "            self.items[t[1]].count += 1\n",
    "        else:\n",
    "            self.items.append(x)\n",
    "    \n",
    "    def Pop(self, i):\n",
    "        if len(self.items) > i: \n",
    "            self.items[i].count -= 1\n",
    "            if self.items[i].count == 0:\n",
    "                del self.items[i]\n",
    "                \n",
    "    def Use(self, x):\n",
    "        t = self._check(x.name, type(x))\n",
    "        if t[0]:\n",
    "            self.items[t[1]].count -= 1\n",
    "            if self.items[t[1]].count == 0:\n",
    "                del self.items[t[1]]\n",
    "            c = -1\n",
    "            for i in range(len(self.users)):\n",
    "                if x.name == self.users[i].name and type(x) == type(self.users[i]):\n",
    "                    self.users[i].count += 1\n",
    "                    c = i\n",
    "                    break\n",
    "            if c == len(self.users) - 1:\n",
    "                x.count = 1\n",
    "                self.users.append(x)\n",
    "        else:\n",
    "            print(\"Not found!\")\n",
    "    \n",
    "    def Reuse(self, x):\n",
    "        c = -1\n",
    "        for i in range(len(self.users)):\n",
    "            if x.name == self.users[i].name and type(x) == type(self.users[i]):\n",
    "                    self.users[i].count -= 1\n",
    "                    c = i\n",
    "                    break\n",
    "        if c == -1:\n",
    "            print('Not found!')\n",
    "        else:\n",
    "            if self.users[i].count == 0:\n",
    "                del self.users[i]\n",
    "            t = self._check(x.name, type(x))\n",
    "            if t[0]:\n",
    "                self.items[t[1]].count += 1\n",
    "            else:\n",
    "                x.count = 1\n",
    "                self.items.append(x)\n",
    "    \n",
    "    def __str__(self):\n",
    "        s = 'Library: ' + '\\n'\n",
    "        for i in self.items:\n",
    "            s += str(i) + '\\n'\n",
    "        s += 'Using books: ' + '\\n'\n",
    "        for i in self.users:\n",
    "            s += str(i) + '\\n'\n",
    "        return s"
   ]
  },
  {
   "cell_type": "code",
   "execution_count": 322,
   "metadata": {},
   "outputs": [],
   "source": [
    "class Magazine(Literature): \n",
    "    \n",
    "    def __init__(self, name, year, publish = 0):\n",
    "        super().__init__(name, year)\n",
    "        self._publish = publish\n",
    "    \n",
    "    def __str__(self):\n",
    "        return super().__str__() + str(self._publish)"
   ]
  },
  {
   "cell_type": "code",
   "execution_count": 323,
   "metadata": {},
   "outputs": [],
   "source": [
    "class CD():\n",
    "    count = 0\n",
    "    \n",
    "    def __init__(self, name, cdformat='', adress=None):\n",
    "            self.name = name\n",
    "            self._format = cdformat\n",
    "            self.count = 1\n",
    "            self._adress = adress\n",
    "    \n",
    "    def __str__(self):\n",
    "        return self.name+' '+ self._format+' '+ str(self.count)+' '+ self._adress"
   ]
  },
  {
   "cell_type": "code",
   "execution_count": 324,
   "metadata": {},
   "outputs": [
    {
     "data": {
      "text/plain": [
       "[]"
      ]
     },
     "execution_count": 324,
     "metadata": {},
     "output_type": "execute_result"
    }
   ],
   "source": [
    "q = Library()\n",
    "q.items"
   ]
  },
  {
   "cell_type": "code",
   "execution_count": 325,
   "metadata": {},
   "outputs": [],
   "source": [
    "b = Book('a','b',1999,'e')\n",
    "q.Add(b)\n",
    "q.Add(Book('t','c',2000,'3'))\n",
    "q.Add(CD('t','d','q'))"
   ]
  },
  {
   "cell_type": "code",
   "execution_count": 326,
   "metadata": {},
   "outputs": [
    {
     "name": "stdout",
     "output_type": "stream",
     "text": [
      "Library: \n",
      "a 1999 1 e b\n",
      "t 2000 1 3 c\n",
      "t d 1 q\n",
      "Using books: \n",
      "\n"
     ]
    }
   ],
   "source": [
    "print(q)"
   ]
  },
  {
   "cell_type": "code",
   "execution_count": 327,
   "metadata": {},
   "outputs": [],
   "source": [
    "q.Pop(2)"
   ]
  },
  {
   "cell_type": "code",
   "execution_count": 328,
   "metadata": {},
   "outputs": [
    {
     "name": "stdout",
     "output_type": "stream",
     "text": [
      "Library: \n",
      "a 1999 1 e b\n",
      "t 2000 1 3 c\n",
      "Using books: \n",
      "\n"
     ]
    }
   ],
   "source": [
    "print(q)"
   ]
  },
  {
   "cell_type": "code",
   "execution_count": 329,
   "metadata": {},
   "outputs": [],
   "source": [
    "q.Use(b)"
   ]
  },
  {
   "cell_type": "code",
   "execution_count": 330,
   "metadata": {},
   "outputs": [
    {
     "name": "stdout",
     "output_type": "stream",
     "text": [
      "Library: \n",
      "t 2000 1 3 c\n",
      "Using books: \n",
      "a 1999 1 e b\n",
      "\n"
     ]
    }
   ],
   "source": [
    "print(q)"
   ]
  },
  {
   "cell_type": "code",
   "execution_count": 331,
   "metadata": {},
   "outputs": [],
   "source": [
    "q.Reuse(b)"
   ]
  },
  {
   "cell_type": "code",
   "execution_count": 332,
   "metadata": {},
   "outputs": [
    {
     "name": "stdout",
     "output_type": "stream",
     "text": [
      "Library: \n",
      "t 2000 1 3 c\n",
      "a 1999 1 e b\n",
      "Using books: \n",
      "\n"
     ]
    }
   ],
   "source": [
    "print(q)"
   ]
  },
  {
   "cell_type": "code",
   "execution_count": null,
   "metadata": {},
   "outputs": [],
   "source": []
  },
  {
   "cell_type": "code",
   "execution_count": 335,
   "metadata": {},
   "outputs": [
    {
     "name": "stdout",
     "output_type": "stream",
     "text": [
      "1\n",
      "(1,2,3)\n",
      "(1, 2, 3)\n"
     ]
    }
   ],
   "source": [
    "n = int(input()) \n",
    "l = [] \n",
    "for i in range(1, n + 1): \n",
    "\tuser = (name, year, points) = eval(input()) \n",
    "\tl.append(user) \n",
    "\tl.sort(key=lambda i: i[1], reverse=1) \n",
    "for i in range(n): \n",
    "\tfor j in range(i, n): \n",
    "\t\tif(l[i][1] == l[j][1]): \n",
    "\t\t\tif(l[j][2] < l[i][2]): \n",
    "\t\t\t\tl[j], l[i] = l[i], l[j] \n",
    "for i in range(n): \n",
    "\tfor j in range(i, n): \n",
    "\t\tif(l[i][1] == l[j][1] and l[i][2] == l[j][2]): \n",
    "\t\t\tif(l[j][0] < l[i][0]): \n",
    "\t\t\t\tl[i], l[j] = l[j], l[i] \n",
    "for i in l: \n",
    "\tprint(i)"
   ]
  },
  {
   "cell_type": "code",
   "execution_count": null,
   "metadata": {},
   "outputs": [],
   "source": []
  }
 ],
 "metadata": {
  "kernelspec": {
   "display_name": "Python 3",
   "language": "python",
   "name": "python3"
  },
  "language_info": {
   "codemirror_mode": {
    "name": "ipython",
    "version": 3
   },
   "file_extension": ".py",
   "mimetype": "text/x-python",
   "name": "python",
   "nbconvert_exporter": "python",
   "pygments_lexer": "ipython3",
   "version": "3.5.2"
  }
 },
 "nbformat": 4,
 "nbformat_minor": 2
}
